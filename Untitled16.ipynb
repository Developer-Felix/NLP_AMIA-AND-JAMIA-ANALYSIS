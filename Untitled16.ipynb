{
 "cells": [
  {
   "cell_type": "code",
   "execution_count": 7,
   "id": "99673ee6",
   "metadata": {},
   "outputs": [
    {
     "name": "stdout",
     "output_type": "stream",
     "text": [
      "             pmc_id         year\n",
      "count  5.082000e+03  5068.000000\n",
      "mean   3.295233e+06  2003.994475\n",
      "std    1.651942e+06    11.349324\n",
      "min    1.480100e+06  1981.000000\n",
      "25%    2.245438e+06  1992.000000\n",
      "50%    2.581248e+06  2008.000000\n",
      "75%    3.900120e+06  2013.000000\n",
      "max    8.075557e+06  2021.000000\n"
     ]
    }
   ],
   "source": [
    "#analyze the AmIA and JAMIA csv files\n",
    "#aalize the AMia-1981-2021.csv file and the JAMIA-1994-2021.csv file\n",
    "\n",
    "#import the csv module\n",
    "import csv\n",
    "import os\n",
    "import sys\n",
    "import re\n",
    "import datetime\n",
    "import time\n",
    "import calendar\n",
    "import numpy as np\n",
    "# import matplotlib.pyplot as plt\n",
    "# import matplotlib.dates as mdates\n",
    "# import matplotlib.ticker as ticker\n",
    "# import matplotlib.patches as patches\n",
    "# import matplotlib.lines as lines\n",
    "# import matplotlib.text as text\n",
    "# import matplotlib.image as image\n",
    "# import matplotlib.colors as colors\n",
    "import pandas as pd\n",
    "\n",
    "data = pd.read_csv('C:/Users/admin/Music/Project/AMia-1981-2021.csv')\n",
    "# statistical analisis of the data\n",
    "print(data.describe())\n",
    "\n"
   ]
  },
  {
   "cell_type": "code",
   "execution_count": null,
   "id": "d2ca563a",
   "metadata": {},
   "outputs": [],
   "source": [
    "print(data.head())\n"
   ]
  },
  {
   "cell_type": "code",
   "execution_count": null,
   "id": "c68b5219",
   "metadata": {},
   "outputs": [],
   "source": [
    "print(data.tail())"
   ]
  },
  {
   "cell_type": "code",
   "execution_count": null,
   "id": "bcaba040",
   "metadata": {},
   "outputs": [],
   "source": [
    "print(data.info())\n"
   ]
  },
  {
   "cell_type": "code",
   "execution_count": 8,
   "id": "2473b554",
   "metadata": {},
   "outputs": [
    {
     "name": "stdout",
     "output_type": "stream",
     "text": [
      "Index(['pmc_id', 'title', 'authors', 'authors_information', 'year',\n",
      "       'abstract'],\n",
      "      dtype='object')\n",
      "pmc_id                   int64\n",
      "title                   object\n",
      "authors                 object\n",
      "authors_information     object\n",
      "year                   float64\n",
      "abstract                object\n",
      "dtype: object\n"
     ]
    }
   ],
   "source": [
    "print(data.columns)\n"
   ]
  },
  {
   "cell_type": "code",
   "execution_count": 15,
   "id": "ca9957ce",
   "metadata": {},
   "outputs": [
    {
     "name": "stdout",
     "output_type": "stream",
     "text": [
      "pmc_id                   int64\n",
      "title                   object\n",
      "authors                 object\n",
      "authors_information     object\n",
      "year                   float64\n",
      "abstract                object\n",
      "dtype: object\n"
     ]
    }
   ],
   "source": [
    "\n",
    "print(data.dtypes)"
   ]
  },
  {
   "cell_type": "code",
   "execution_count": 16,
   "id": "03c2bd4f",
   "metadata": {},
   "outputs": [
    {
     "name": "stdout",
     "output_type": "stream",
     "text": [
      "RangeIndex(start=0, stop=5082, step=1)\n"
     ]
    }
   ],
   "source": [
    "print(data.index)\n",
    "\n"
   ]
  },
  {
   "cell_type": "code",
   "execution_count": 18,
   "id": "7e9512c9",
   "metadata": {},
   "outputs": [
    {
     "name": "stdout",
     "output_type": "stream",
     "text": [
      "[[8075400\n",
      "  'Association of White Matter Hyperintensity Progression with Cognitive Decline in Patients with Amnestic Mild Cognitive Impairment'\n",
      "  'Kentaro Hirao'\n",
      "  'aDepartment of Geriatric Medicine, Tokyo Medical University, Shinjuku-ku, Tokyo, Japan,'\n",
      "  2021.0\n",
      "  'white matter hyperintensities wmh mri reported increase risk conversion mild cognitive impairment mci alzheimers disease ad however effect progression wmh cognition mci remains unclear date']\n",
      " [8075401\n",
      "  'Mild Behavioral Impairment and Subjective Cognitive Decline Predict Cognitive and Functional Decline'\n",
      "  'Fumio Yamashita'\n",
      "  'bDepartment of Ultrahigh Field MRI, Institute for Biomedical Sciences, Iwate Medical University, Iwate, Japan,'\n",
      "  2021.0\n",
      "  'mild behavioral impairment mbi subjective cognitive decline scd dementia risk state potentially represent neurobehavioral neurocognitive manifestation respectively early stage neurodegeneration mbi scd predict incident cognitive decline dementia associated known dementia biomarkers represented niaaa research framework ad stage 2 preclinical disease']\n",
      " [8075402\n",
      "  'Safety Monitoring of Gene Therapy for Spinal Muscular Atrophy with Onasemnogene Abeparvovec –A Single Centre Experience'\n",
      "  'Akito Tsugawa'\n",
      "  'aDepartment of Psychiatry, University of Calgary, Calgary, Canada,'\n",
      "  2021.0\n",
      "  'recently gene therapy onasemnogene abeparvovec approved treatment spinal muscular atrophy sma experience trial limited still uncertainty population treatment considered safe effective']\n",
      " ...\n",
      " [2581288\n",
      "  'Microcomputer-Based Expert System for Clinical Decision-Making'\n",
      "  'Virginia K. Saba' 'Virginia K. Saba' 1981.0\n",
      "  'substantial portion record historical nature production base presently provides adequate tool handling time aspect propose consistent framework handling temporal eliminates need distinguish derived declared timing relation argue mechanism applied generally different class attribute object']\n",
      " [2581289\n",
      "  'Impact of Computers on Nursing Administration Introduction adn Overview'\n",
      "  'Jane BarnettandDavid Kramlich' 'Jane BarnettandDavid Kramlich' 1981.0\n",
      "  'computeraided interactive game developed jointly school medicine school management enable prospective practicing physician learn practice administration decisionmaking simulated condition among factor addressed practice location configuration space equipment requirement flow scheduling personnel utilization productivity practice revenue expense interactive nature game allows player make choice organizing operating practice realize consequence choice revise decision arrive satisfactory result result decision measured net practice income financial indicator waiting time staff utilization bank national regional statistic organized according 24 specialty subspecialties enables physician compare answer result average value physician specialty']\n",
      " [2581290 'Medical Applications of a Spatial Data Management System'\n",
      "  'William B. Hamlin' 'William B. Hamlin' 1981.0\n",
      "  'automated quantitation uc fhr tabulated half hour average throughout labor could improve human expertise early diagnosis fetal distress continuous 24 hrday surveillance developed laboratory simultaneous monitoring 10 woman labor presented reliability usefulness supplied computer validated biochemical assessment fetus newborn baby']]\n"
     ]
    }
   ],
   "source": [
    "print(data.values)"
   ]
  },
  {
   "cell_type": "code",
   "execution_count": 17,
   "id": "41972623",
   "metadata": {},
   "outputs": [
    {
     "name": "stdout",
     "output_type": "stream",
     "text": [
      "(5082, 6)\n"
     ]
    }
   ],
   "source": [
    "print(data.shape)\n"
   ]
  },
  {
   "cell_type": "code",
   "execution_count": null,
   "id": "5f8d5d86",
   "metadata": {},
   "outputs": [],
   "source": [
    "print(data.ndim)"
   ]
  },
  {
   "cell_type": "code",
   "execution_count": 12,
   "id": "d054e707",
   "metadata": {},
   "outputs": [
    {
     "name": "stdout",
     "output_type": "stream",
     "text": [
      "30492\n"
     ]
    }
   ],
   "source": [
    "print(data.size)\n"
   ]
  },
  {
   "cell_type": "code",
   "execution_count": 13,
   "id": "92d9d7ae",
   "metadata": {},
   "outputs": [
    {
     "name": "stdout",
     "output_type": "stream",
     "text": [
      "Index                    128\n",
      "pmc_id                 40656\n",
      "title                  40656\n",
      "authors                40656\n",
      "authors_information    40656\n",
      "year                   40656\n",
      "abstract               40656\n",
      "dtype: int64\n"
     ]
    }
   ],
   "source": [
    "print(data.memory_usage())\n"
   ]
  },
  {
   "cell_type": "code",
   "execution_count": 14,
   "id": "d210c3f3",
   "metadata": {},
   "outputs": [
    {
     "name": "stdout",
     "output_type": "stream",
     "text": [
      "Index                      128\n",
      "pmc_id                   40656\n",
      "title                   768397\n",
      "authors                 436172\n",
      "authors_information     724726\n",
      "year                     40656\n",
      "abstract               3330256\n",
      "dtype: int64\n"
     ]
    }
   ],
   "source": [
    "print(data.memory_usage(deep=True))\n"
   ]
  },
  {
   "cell_type": "code",
   "execution_count": 19,
   "id": "ce28fb8d",
   "metadata": {},
   "outputs": [
    {
     "name": "stdout",
     "output_type": "stream",
     "text": [
      "Index                      128\n",
      "pmc_id                   40656\n",
      "title                   768397\n",
      "authors                 436172\n",
      "authors_information     724726\n",
      "year                     40656\n",
      "abstract               3330256\n",
      "dtype: int64\n"
     ]
    }
   ],
   "source": [
    "print(data.memory_usage(index=True, deep=True))"
   ]
  },
  {
   "cell_type": "code",
   "execution_count": 20,
   "id": "4ca8b070",
   "metadata": {},
   "outputs": [
    {
     "data": {
      "text/plain": [
       "['i', 'me', 'my', 'myself', 'we', 'our', 'ours', 'ourselves', 'you', \"you're\"]"
      ]
     },
     "execution_count": 20,
     "metadata": {},
     "output_type": "execute_result"
    }
   ],
   "source": [
    "#importing nlp library\n",
    "import nltk\n",
    "\n",
    "#Stop words present in the library\n",
    "stopwords = nltk.corpus.stopwords.words('english')\n",
    "\n",
    "stopwords[0:10]"
   ]
  },
  {
   "cell_type": "code",
   "execution_count": null,
   "id": "17ad7bbb",
   "metadata": {},
   "outputs": [],
   "source": [
    "#importing the Stemming function from nltk library"
   ]
  }
 ],
 "metadata": {
  "kernelspec": {
   "display_name": "Python 3",
   "language": "python",
   "name": "python3"
  },
  "language_info": {
   "codemirror_mode": {
    "name": "ipython",
    "version": 3
   },
   "file_extension": ".py",
   "mimetype": "text/x-python",
   "name": "python",
   "nbconvert_exporter": "python",
   "pygments_lexer": "ipython3",
   "version": "3.8.8"
  }
 },
 "nbformat": 4,
 "nbformat_minor": 5
}
